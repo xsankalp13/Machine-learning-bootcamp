{
 "cells": [
  {
   "cell_type": "code",
   "execution_count": 2,
   "metadata": {},
   "outputs": [],
   "source": [
    "import pandas as pd"
   ]
  },
  {
   "cell_type": "code",
   "execution_count": 4,
   "metadata": {},
   "outputs": [
    {
     "name": "stdout",
     "output_type": "stream",
     "text": [
      "0    1\n",
      "1    2\n",
      "2    3\n",
      "3    4\n",
      "4    5\n",
      "dtype: int64\n"
     ]
    }
   ],
   "source": [
    "\n",
    "#series it is a one-dimensional array like object containing a sequence of values\n",
    "data = [1,2,3,4,5]\n",
    "series = pd.Series(data)\n",
    "print(series)"
   ]
  },
  {
   "cell_type": "code",
   "execution_count": 6,
   "metadata": {},
   "outputs": [
    {
     "name": "stdout",
     "output_type": "stream",
     "text": [
      "a    0.0\n",
      "b    1.0\n",
      "c    2.0\n",
      "dtype: float64\n"
     ]
    }
   ],
   "source": [
    "data = {'a': 0., 'b': 1., 'c': 2.}\n",
    "series = pd.Series(data)\n",
    "print(series)"
   ]
  },
  {
   "cell_type": "code",
   "execution_count": 8,
   "metadata": {},
   "outputs": [
    {
     "name": "stdout",
     "output_type": "stream",
     "text": [
      "a    10\n",
      "b    20\n",
      "c    30\n",
      "dtype: int64\n"
     ]
    }
   ],
   "source": [
    "data=[10,20,30]\n",
    "indexes=['a','b','c']\n",
    "series = pd.Series(data,index=indexes)\n",
    "print(series)"
   ]
  },
  {
   "cell_type": "code",
   "execution_count": 10,
   "metadata": {},
   "outputs": [
    {
     "name": "stdout",
     "output_type": "stream",
     "text": [
      "    Name  Age\n",
      "0    Tom   28\n",
      "1   Jack   34\n",
      "2  Steve   29\n",
      "3  Ricky   42\n"
     ]
    }
   ],
   "source": [
    "#dataframe is a two-dimensional array like object containing a sequence of values\n",
    "\n",
    "data = {'Name':['Tom', 'Jack', 'Steve', 'Ricky'],'Age':[28,34,29,42]}\n",
    "df = pd.DataFrame(data)\n",
    "print(df)"
   ]
  },
  {
   "cell_type": "code",
   "execution_count": 12,
   "metadata": {},
   "outputs": [
    {
     "data": {
      "text/html": [
       "<div>\n",
       "<style scoped>\n",
       "    .dataframe tbody tr th:only-of-type {\n",
       "        vertical-align: middle;\n",
       "    }\n",
       "\n",
       "    .dataframe tbody tr th {\n",
       "        vertical-align: top;\n",
       "    }\n",
       "\n",
       "    .dataframe thead th {\n",
       "        text-align: right;\n",
       "    }\n",
       "</style>\n",
       "<table border=\"1\" class=\"dataframe\">\n",
       "  <thead>\n",
       "    <tr style=\"text-align: right;\">\n",
       "      <th></th>\n",
       "      <th>Name</th>\n",
       "      <th>Age</th>\n",
       "    </tr>\n",
       "  </thead>\n",
       "  <tbody>\n",
       "    <tr>\n",
       "      <th>0</th>\n",
       "      <td>Tom</td>\n",
       "      <td>28</td>\n",
       "    </tr>\n",
       "    <tr>\n",
       "      <th>1</th>\n",
       "      <td>Jack</td>\n",
       "      <td>34</td>\n",
       "    </tr>\n",
       "    <tr>\n",
       "      <th>2</th>\n",
       "      <td>Steve</td>\n",
       "      <td>29</td>\n",
       "    </tr>\n",
       "    <tr>\n",
       "      <th>3</th>\n",
       "      <td>Ricky</td>\n",
       "      <td>42</td>\n",
       "    </tr>\n",
       "  </tbody>\n",
       "</table>\n",
       "</div>"
      ],
      "text/plain": [
       "    Name  Age\n",
       "0    Tom   28\n",
       "1   Jack   34\n",
       "2  Steve   29\n",
       "3  Ricky   42"
      ]
     },
     "execution_count": 12,
     "metadata": {},
     "output_type": "execute_result"
    }
   ],
   "source": [
    "df.head()"
   ]
  },
  {
   "cell_type": "code",
   "execution_count": 27,
   "metadata": {},
   "outputs": [],
   "source": [
    "df=pd.read_csv('./coursera_1000_Courses')"
   ]
  },
  {
   "cell_type": "code",
   "execution_count": 17,
   "metadata": {},
   "outputs": [
    {
     "data": {
      "text/html": [
       "<div>\n",
       "<style scoped>\n",
       "    .dataframe tbody tr th:only-of-type {\n",
       "        vertical-align: middle;\n",
       "    }\n",
       "\n",
       "    .dataframe tbody tr th {\n",
       "        vertical-align: top;\n",
       "    }\n",
       "\n",
       "    .dataframe thead th {\n",
       "        text-align: right;\n",
       "    }\n",
       "</style>\n",
       "<table border=\"1\" class=\"dataframe\">\n",
       "  <thead>\n",
       "    <tr style=\"text-align: right;\">\n",
       "      <th></th>\n",
       "      <th>Unnamed: 0</th>\n",
       "      <th>Course_Banner</th>\n",
       "      <th>Course_Name</th>\n",
       "      <th>Company_Name</th>\n",
       "      <th>Skills</th>\n",
       "      <th>Ratings</th>\n",
       "      <th>Reviews</th>\n",
       "      <th>Difficulty</th>\n",
       "      <th>Type_Of_Certificate</th>\n",
       "      <th>Duration</th>\n",
       "    </tr>\n",
       "  </thead>\n",
       "  <tbody>\n",
       "    <tr>\n",
       "      <th>0</th>\n",
       "      <td>0</td>\n",
       "      <td>https://d3njjcbhbojbot.cloudfront.net/api/util...</td>\n",
       "      <td>Google Cybersecurity</td>\n",
       "      <td>Google</td>\n",
       "      <td>Skills you'll gain: Network Security, Python P...</td>\n",
       "      <td>4.8</td>\n",
       "      <td>(19K reviews)</td>\n",
       "      <td>Beginner</td>\n",
       "      <td>Professional Certificate</td>\n",
       "      <td>3 - 6 Months</td>\n",
       "    </tr>\n",
       "    <tr>\n",
       "      <th>1</th>\n",
       "      <td>1</td>\n",
       "      <td>https://d3njjcbhbojbot.cloudfront.net/api/util...</td>\n",
       "      <td>Google Data Analytics</td>\n",
       "      <td>Google</td>\n",
       "      <td>Skills you'll gain: Data Analysis, R Programmi...</td>\n",
       "      <td>4.8</td>\n",
       "      <td>(136K reviews)</td>\n",
       "      <td>Beginner</td>\n",
       "      <td>Professional Certificate</td>\n",
       "      <td>3 - 6 Months</td>\n",
       "    </tr>\n",
       "    <tr>\n",
       "      <th>2</th>\n",
       "      <td>2</td>\n",
       "      <td>https://d3njjcbhbojbot.cloudfront.net/api/util...</td>\n",
       "      <td>Google Project Management:</td>\n",
       "      <td>Google</td>\n",
       "      <td>Skills you'll gain: Project Management, Strate...</td>\n",
       "      <td>4.8</td>\n",
       "      <td>(100K reviews)</td>\n",
       "      <td>Beginner</td>\n",
       "      <td>Professional Certificate</td>\n",
       "      <td>3 - 6 Months</td>\n",
       "    </tr>\n",
       "    <tr>\n",
       "      <th>3</th>\n",
       "      <td>3</td>\n",
       "      <td>https://d3njjcbhbojbot.cloudfront.net/api/util...</td>\n",
       "      <td>IBM Data Science</td>\n",
       "      <td>IBM</td>\n",
       "      <td>Skills you'll gain: Python Programming, Data S...</td>\n",
       "      <td>4.6</td>\n",
       "      <td>(120K reviews)</td>\n",
       "      <td>Beginner</td>\n",
       "      <td>Professional Certificate</td>\n",
       "      <td>3 - 6 Months</td>\n",
       "    </tr>\n",
       "    <tr>\n",
       "      <th>4</th>\n",
       "      <td>4</td>\n",
       "      <td>https://d3njjcbhbojbot.cloudfront.net/api/util...</td>\n",
       "      <td>Google Digital Marketing &amp; E-commerce</td>\n",
       "      <td>Google</td>\n",
       "      <td>Skills you'll gain: Digital Marketing, Marketi...</td>\n",
       "      <td>4.8</td>\n",
       "      <td>(23K reviews)</td>\n",
       "      <td>Beginner</td>\n",
       "      <td>Professional Certificate</td>\n",
       "      <td>3 - 6 Months</td>\n",
       "    </tr>\n",
       "  </tbody>\n",
       "</table>\n",
       "</div>"
      ],
      "text/plain": [
       "   Unnamed: 0                                      Course_Banner  \\\n",
       "0           0  https://d3njjcbhbojbot.cloudfront.net/api/util...   \n",
       "1           1  https://d3njjcbhbojbot.cloudfront.net/api/util...   \n",
       "2           2  https://d3njjcbhbojbot.cloudfront.net/api/util...   \n",
       "3           3  https://d3njjcbhbojbot.cloudfront.net/api/util...   \n",
       "4           4  https://d3njjcbhbojbot.cloudfront.net/api/util...   \n",
       "\n",
       "                             Course_Name Company_Name  \\\n",
       "0                   Google Cybersecurity       Google   \n",
       "1                  Google Data Analytics       Google   \n",
       "2             Google Project Management:       Google   \n",
       "3                       IBM Data Science          IBM   \n",
       "4  Google Digital Marketing & E-commerce       Google   \n",
       "\n",
       "                                              Skills  Ratings         Reviews  \\\n",
       "0  Skills you'll gain: Network Security, Python P...      4.8   (19K reviews)   \n",
       "1  Skills you'll gain: Data Analysis, R Programmi...      4.8  (136K reviews)   \n",
       "2  Skills you'll gain: Project Management, Strate...      4.8  (100K reviews)   \n",
       "3  Skills you'll gain: Python Programming, Data S...      4.6  (120K reviews)   \n",
       "4  Skills you'll gain: Digital Marketing, Marketi...      4.8   (23K reviews)   \n",
       "\n",
       "  Difficulty       Type_Of_Certificate      Duration  \n",
       "0   Beginner  Professional Certificate  3 - 6 Months  \n",
       "1   Beginner  Professional Certificate  3 - 6 Months  \n",
       "2   Beginner  Professional Certificate  3 - 6 Months  \n",
       "3   Beginner  Professional Certificate  3 - 6 Months  \n",
       "4   Beginner  Professional Certificate  3 - 6 Months  "
      ]
     },
     "execution_count": 17,
     "metadata": {},
     "output_type": "execute_result"
    }
   ],
   "source": [
    "df.head()"
   ]
  },
  {
   "cell_type": "code",
   "execution_count": 20,
   "metadata": {},
   "outputs": [
    {
     "data": {
      "text/plain": [
       "0                              Google\n",
       "1                              Google\n",
       "2                              Google\n",
       "3                                 IBM\n",
       "4                              Google\n",
       "                    ...              \n",
       "995                               IBM\n",
       "996                              Meta\n",
       "997     University of Colorado System\n",
       "998          Arizona State University\n",
       "999    University of Colorado Boulder\n",
       "Name: Company_Name, Length: 1000, dtype: object"
      ]
     },
     "execution_count": 20,
     "metadata": {},
     "output_type": "execute_result"
    }
   ],
   "source": [
    "df['Company_Name']"
   ]
  },
  {
   "cell_type": "code",
   "execution_count": 22,
   "metadata": {},
   "outputs": [
    {
     "data": {
      "text/plain": [
       "'IBM'"
      ]
     },
     "execution_count": 22,
     "metadata": {},
     "output_type": "execute_result"
    }
   ],
   "source": [
    "df.at[3,'Company_Name']"
   ]
  },
  {
   "cell_type": "code",
   "execution_count": 28,
   "metadata": {},
   "outputs": [],
   "source": [
    "df.drop('Ratings',axis=1, inplace=True)"
   ]
  },
  {
   "cell_type": "code",
   "execution_count": 30,
   "metadata": {},
   "outputs": [
    {
     "data": {
      "text/html": [
       "<div>\n",
       "<style scoped>\n",
       "    .dataframe tbody tr th:only-of-type {\n",
       "        vertical-align: middle;\n",
       "    }\n",
       "\n",
       "    .dataframe tbody tr th {\n",
       "        vertical-align: top;\n",
       "    }\n",
       "\n",
       "    .dataframe thead th {\n",
       "        text-align: right;\n",
       "    }\n",
       "</style>\n",
       "<table border=\"1\" class=\"dataframe\">\n",
       "  <thead>\n",
       "    <tr style=\"text-align: right;\">\n",
       "      <th></th>\n",
       "      <th>Unnamed: 0</th>\n",
       "      <th>Course_Banner</th>\n",
       "      <th>Course_Name</th>\n",
       "      <th>Company_Name</th>\n",
       "      <th>Skills</th>\n",
       "      <th>Reviews</th>\n",
       "      <th>Difficulty</th>\n",
       "      <th>Type_Of_Certificate</th>\n",
       "      <th>Duration</th>\n",
       "    </tr>\n",
       "  </thead>\n",
       "  <tbody>\n",
       "    <tr>\n",
       "      <th>0</th>\n",
       "      <td>0</td>\n",
       "      <td>https://d3njjcbhbojbot.cloudfront.net/api/util...</td>\n",
       "      <td>Google Cybersecurity</td>\n",
       "      <td>Google</td>\n",
       "      <td>Skills you'll gain: Network Security, Python P...</td>\n",
       "      <td>(19K reviews)</td>\n",
       "      <td>Beginner</td>\n",
       "      <td>Professional Certificate</td>\n",
       "      <td>3 - 6 Months</td>\n",
       "    </tr>\n",
       "    <tr>\n",
       "      <th>1</th>\n",
       "      <td>1</td>\n",
       "      <td>https://d3njjcbhbojbot.cloudfront.net/api/util...</td>\n",
       "      <td>Google Data Analytics</td>\n",
       "      <td>Google</td>\n",
       "      <td>Skills you'll gain: Data Analysis, R Programmi...</td>\n",
       "      <td>(136K reviews)</td>\n",
       "      <td>Beginner</td>\n",
       "      <td>Professional Certificate</td>\n",
       "      <td>3 - 6 Months</td>\n",
       "    </tr>\n",
       "    <tr>\n",
       "      <th>2</th>\n",
       "      <td>2</td>\n",
       "      <td>https://d3njjcbhbojbot.cloudfront.net/api/util...</td>\n",
       "      <td>Google Project Management:</td>\n",
       "      <td>Google</td>\n",
       "      <td>Skills you'll gain: Project Management, Strate...</td>\n",
       "      <td>(100K reviews)</td>\n",
       "      <td>Beginner</td>\n",
       "      <td>Professional Certificate</td>\n",
       "      <td>3 - 6 Months</td>\n",
       "    </tr>\n",
       "    <tr>\n",
       "      <th>3</th>\n",
       "      <td>3</td>\n",
       "      <td>https://d3njjcbhbojbot.cloudfront.net/api/util...</td>\n",
       "      <td>IBM Data Science</td>\n",
       "      <td>IBM</td>\n",
       "      <td>Skills you'll gain: Python Programming, Data S...</td>\n",
       "      <td>(120K reviews)</td>\n",
       "      <td>Beginner</td>\n",
       "      <td>Professional Certificate</td>\n",
       "      <td>3 - 6 Months</td>\n",
       "    </tr>\n",
       "    <tr>\n",
       "      <th>4</th>\n",
       "      <td>4</td>\n",
       "      <td>https://d3njjcbhbojbot.cloudfront.net/api/util...</td>\n",
       "      <td>Google Digital Marketing &amp; E-commerce</td>\n",
       "      <td>Google</td>\n",
       "      <td>Skills you'll gain: Digital Marketing, Marketi...</td>\n",
       "      <td>(23K reviews)</td>\n",
       "      <td>Beginner</td>\n",
       "      <td>Professional Certificate</td>\n",
       "      <td>3 - 6 Months</td>\n",
       "    </tr>\n",
       "  </tbody>\n",
       "</table>\n",
       "</div>"
      ],
      "text/plain": [
       "   Unnamed: 0                                      Course_Banner  \\\n",
       "0           0  https://d3njjcbhbojbot.cloudfront.net/api/util...   \n",
       "1           1  https://d3njjcbhbojbot.cloudfront.net/api/util...   \n",
       "2           2  https://d3njjcbhbojbot.cloudfront.net/api/util...   \n",
       "3           3  https://d3njjcbhbojbot.cloudfront.net/api/util...   \n",
       "4           4  https://d3njjcbhbojbot.cloudfront.net/api/util...   \n",
       "\n",
       "                             Course_Name Company_Name  \\\n",
       "0                   Google Cybersecurity       Google   \n",
       "1                  Google Data Analytics       Google   \n",
       "2             Google Project Management:       Google   \n",
       "3                       IBM Data Science          IBM   \n",
       "4  Google Digital Marketing & E-commerce       Google   \n",
       "\n",
       "                                              Skills         Reviews  \\\n",
       "0  Skills you'll gain: Network Security, Python P...   (19K reviews)   \n",
       "1  Skills you'll gain: Data Analysis, R Programmi...  (136K reviews)   \n",
       "2  Skills you'll gain: Project Management, Strate...  (100K reviews)   \n",
       "3  Skills you'll gain: Python Programming, Data S...  (120K reviews)   \n",
       "4  Skills you'll gain: Digital Marketing, Marketi...   (23K reviews)   \n",
       "\n",
       "  Difficulty       Type_Of_Certificate      Duration  \n",
       "0   Beginner  Professional Certificate  3 - 6 Months  \n",
       "1   Beginner  Professional Certificate  3 - 6 Months  \n",
       "2   Beginner  Professional Certificate  3 - 6 Months  \n",
       "3   Beginner  Professional Certificate  3 - 6 Months  \n",
       "4   Beginner  Professional Certificate  3 - 6 Months  "
      ]
     },
     "execution_count": 30,
     "metadata": {},
     "output_type": "execute_result"
    }
   ],
   "source": [
    "df.head()"
   ]
  },
  {
   "cell_type": "code",
   "execution_count": null,
   "metadata": {},
   "outputs": [],
   "source": []
  }
 ],
 "metadata": {
  "kernelspec": {
   "display_name": "Python 3",
   "language": "python",
   "name": "python3"
  },
  "language_info": {
   "codemirror_mode": {
    "name": "ipython",
    "version": 3
   },
   "file_extension": ".py",
   "mimetype": "text/x-python",
   "name": "python",
   "nbconvert_exporter": "python",
   "pygments_lexer": "ipython3",
   "version": "3.10.0"
  }
 },
 "nbformat": 4,
 "nbformat_minor": 2
}
